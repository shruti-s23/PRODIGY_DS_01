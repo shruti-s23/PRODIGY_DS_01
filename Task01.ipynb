{
 "cells": [
  {
   "cell_type": "code",
   "execution_count": 6,
   "id": "26f39520",
   "metadata": {},
   "outputs": [],
   "source": [
    "import pandas as pd\n",
    "\n",
    "def clean_value(value):\n",
    "    if isinstance(value, str):\n",
    "        value = value.replace('.', '', value.count('.') - 1)\n",
    "    try:\n",
    "        value = float(value)\n",
    "    except ValueError:\n",
    "        value = None\n",
    "    return value\n",
    "\n",
    "file_path = 'api.csv'\n",
    "df = pd.read_csv(file_path)\n",
    "\n",
    "df['Historical and more recent literacy estimates'] = df['Historical and more recent literacy estimates'].apply(clean_value)\n",
    "\n",
    "df = df.dropna(subset=['Historical and more recent literacy estimates'])\n",
    "df = df[df['Historical and more recent literacy estimates'] < 100]"
   ]
  },
  {
   "cell_type": "code",
   "execution_count": 7,
   "id": "6bf030ef",
   "metadata": {},
   "outputs": [],
   "source": [
    "file_path = 'api.csv'\n",
    "df.to_csv(file_path, index=False)"
   ]
  }
 ],
 "metadata": {
  "kernelspec": {
   "display_name": "Python 3 (ipykernel)",
   "language": "python",
   "name": "python3"
  },
  "language_info": {
   "codemirror_mode": {
    "name": "ipython",
    "version": 3
   },
   "file_extension": ".py",
   "mimetype": "text/x-python",
   "name": "python",
   "nbconvert_exporter": "python",
   "pygments_lexer": "ipython3",
   "version": "3.11.5"
  }
 },
 "nbformat": 4,
 "nbformat_minor": 5
}
